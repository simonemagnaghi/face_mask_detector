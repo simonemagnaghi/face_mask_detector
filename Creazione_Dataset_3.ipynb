{
 "cells": [
  {
   "cell_type": "markdown",
   "metadata": {},
   "source": [
    "# Selezioniamo circa 690 immagini di viso con e senza maschera"
   ]
  },
  {
   "cell_type": "code",
   "execution_count": 24,
   "metadata": {},
   "outputs": [],
   "source": [
    "import os\n",
    "import shutil"
   ]
  },
  {
   "cell_type": "code",
   "execution_count": 25,
   "metadata": {},
   "outputs": [],
   "source": [
    "path='C:/Users/matti/OneDrive - Universita degli Studi di Milano-Bicocca/Uni/LM-DataScience/1-Anno/Data Science Lab/Progetto_Face_Mask/self-built-masked-face-recognition-dataset/dataset_2'"
   ]
  },
  {
   "cell_type": "code",
   "execution_count": 26,
   "metadata": {},
   "outputs": [],
   "source": [
    "dirs=[str(path) + '/with_mask']"
   ]
  },
  {
   "cell_type": "code",
   "execution_count": 27,
   "metadata": {},
   "outputs": [],
   "source": [
    "path1='C:/Users/matti/OneDrive - Universita degli Studi di Milano-Bicocca/Uni/LM-DataScience/1-Anno/Data Science Lab/Progetto_Face_Mask/self-built-masked-face-recognition-dataset/dataset_comp'"
   ]
  },
  {
   "cell_type": "code",
   "execution_count": 28,
   "metadata": {},
   "outputs": [],
   "source": [
    "dirs1=[str(path1) + '/face_with_mask']"
   ]
  },
  {
   "cell_type": "code",
   "execution_count": 29,
   "metadata": {},
   "outputs": [
    {
     "name": "stdout",
     "output_type": "stream",
     "text": [
      "C:/Users/matti/OneDrive - Universita degli Studi di Milano-Bicocca/Uni/LM-DataScience/1-Anno/Data Science Lab/Progetto_Face_Mask/self-built-masked-face-recognition-dataset/dataset_comp/face_with_mask\n"
     ]
    }
   ],
   "source": [
    "for d in dirs1:\n",
    "    print(d)"
   ]
  },
  {
   "cell_type": "code",
   "execution_count": 30,
   "metadata": {},
   "outputs": [
    {
     "name": "stdout",
     "output_type": "stream",
     "text": [
      "C:/Users/matti/OneDrive - Universita degli Studi di Milano-Bicocca/Uni/LM-DataScience/1-Anno/Data Science Lab/Progetto_Face_Mask/self-built-masked-face-recognition-dataset/dataset_2/with_mask\n"
     ]
    }
   ],
   "source": [
    "for d in dirs:\n",
    "    print(d)"
   ]
  },
  {
   "cell_type": "code",
   "execution_count": 31,
   "metadata": {},
   "outputs": [],
   "source": [
    "b=2204 #with mask\n",
    "\n",
    "for d in dirs:\n",
    "    if d==dirs[0]:\n",
    "        for file in os.listdir(f\"{d}/\"):\n",
    "            shutil.copyfile(d + '/' + file, dirs1[0] + '/with_mask_' + str(b) + '.jpg')\n",
    "            b+=1"
   ]
  },
  {
   "cell_type": "code",
   "execution_count": null,
   "metadata": {},
   "outputs": [],
   "source": []
  },
  {
   "cell_type": "code",
   "execution_count": null,
   "metadata": {},
   "outputs": [],
   "source": []
  }
 ],
 "metadata": {
  "kernelspec": {
   "display_name": "Python 3",
   "language": "python",
   "name": "python3"
  },
  "language_info": {
   "codemirror_mode": {
    "name": "ipython",
    "version": 3
   },
   "file_extension": ".py",
   "mimetype": "text/x-python",
   "name": "python",
   "nbconvert_exporter": "python",
   "pygments_lexer": "ipython3",
   "version": "3.7.6"
  }
 },
 "nbformat": 4,
 "nbformat_minor": 2
}
