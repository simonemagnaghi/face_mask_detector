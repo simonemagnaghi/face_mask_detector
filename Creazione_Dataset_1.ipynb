{
 "cells": [
  {
   "cell_type": "markdown",
   "metadata": {},
   "source": [
    "# Pre-Processing Immagini"
   ]
  },
  {
   "cell_type": "code",
   "execution_count": 39,
   "metadata": {},
   "outputs": [],
   "source": [
    "import os\n",
    "import numpy as np\n",
    "import shutil\n",
    "import subprocess"
   ]
  },
  {
   "cell_type": "code",
   "execution_count": 40,
   "metadata": {},
   "outputs": [],
   "source": [
    "os.chdir('C:/Users/matti/OneDrive - Universita degli Studi di Milano-Bicocca/Uni/LM-DataScience/1-Anno/Data Science Lab/Progetto_Face_Mask')"
   ]
  },
  {
   "cell_type": "code",
   "execution_count": 41,
   "metadata": {},
   "outputs": [],
   "source": [
    "path='C:/Users/matti/OneDrive - Universita degli Studi di Milano-Bicocca/Uni/LM-DataScience/1-Anno/Data Science Lab/Progetto_Face_Mask/self-built-masked-face-recognition-dataset/dataset_2'"
   ]
  },
  {
   "cell_type": "code",
   "execution_count": 42,
   "metadata": {},
   "outputs": [],
   "source": [
    "dirs=[str(path) + '/without_mask', str(path) + '/with_mask']"
   ]
  },
  {
   "cell_type": "markdown",
   "metadata": {},
   "source": [
    "# Rinominiamo i file presi dalla cartella di Adrian"
   ]
  },
  {
   "cell_type": "code",
   "execution_count": 43,
   "metadata": {},
   "outputs": [],
   "source": [
    "for d in dirs:\n",
    "    i=1\n",
    "    if d==dirs[0]:\n",
    "        for file in os.listdir(f\"{d}/\"):\n",
    "            os.rename(d + '/' + file, d + '/without_mask_' + str(i) + '.jpg')\n",
    "            i=i+1   \n",
    "    if d==dirs[1]:\n",
    "        for file in os.listdir(f\"{d}/\"):\n",
    "            os.rename(d + '/' + file, d + '/with_mask_' + str(i) + '.jpg')\n",
    "            i=i+1   "
   ]
  },
  {
   "cell_type": "markdown",
   "metadata": {},
   "source": [
    "# Selezioniamo circa 690 immagini di viso con e senza maschera"
   ]
  },
  {
   "cell_type": "code",
   "execution_count": 51,
   "metadata": {},
   "outputs": [],
   "source": [
    "path='C:/Users/matti/OneDrive - Universita degli Studi di Milano-Bicocca/Uni/LM-DataScience/1-Anno/Data Science Lab/Progetto_Face_Mask/self-built-masked-face-recognition-dataset/dataset'"
   ]
  },
  {
   "cell_type": "code",
   "execution_count": 52,
   "metadata": {},
   "outputs": [],
   "source": [
    "dirs=[str(path) + '/face_without_mask', str(path) + '/face_with_mask']"
   ]
  },
  {
   "cell_type": "code",
   "execution_count": 53,
   "metadata": {},
   "outputs": [],
   "source": [
    "path1='C:/Users/matti/OneDrive - Universita degli Studi di Milano-Bicocca/Uni/LM-DataScience/1-Anno/Data Science Lab/Progetto_Face_Mask/self-built-masked-face-recognition-dataset/dataset_2'"
   ]
  },
  {
   "cell_type": "code",
   "execution_count": 54,
   "metadata": {},
   "outputs": [],
   "source": [
    "dirs1=[str(path1) + '/without_mask', str(path1) + '/with_mask']"
   ]
  },
  {
   "cell_type": "code",
   "execution_count": 55,
   "metadata": {},
   "outputs": [
    {
     "name": "stdout",
     "output_type": "stream",
     "text": [
      "C:/Users/matti/OneDrive - Universita degli Studi di Milano-Bicocca/Uni/LM-DataScience/1-Anno/Data Science Lab/Progetto_Face_Mask/self-built-masked-face-recognition-dataset/dataset_2/without_mask\n",
      "C:/Users/matti/OneDrive - Universita degli Studi di Milano-Bicocca/Uni/LM-DataScience/1-Anno/Data Science Lab/Progetto_Face_Mask/self-built-masked-face-recognition-dataset/dataset_2/with_mask\n"
     ]
    }
   ],
   "source": [
    "for d in dirs1:\n",
    "    print(d)"
   ]
  },
  {
   "cell_type": "code",
   "execution_count": 56,
   "metadata": {},
   "outputs": [
    {
     "name": "stdout",
     "output_type": "stream",
     "text": [
      "C:/Users/matti/OneDrive - Universita degli Studi di Milano-Bicocca/Uni/LM-DataScience/1-Anno/Data Science Lab/Progetto_Face_Mask/self-built-masked-face-recognition-dataset/dataset/face_without_mask\n",
      "C:/Users/matti/OneDrive - Universita degli Studi di Milano-Bicocca/Uni/LM-DataScience/1-Anno/Data Science Lab/Progetto_Face_Mask/self-built-masked-face-recognition-dataset/dataset/face_with_mask\n"
     ]
    }
   ],
   "source": [
    "for d in dirs:\n",
    "    print(d)"
   ]
  },
  {
   "cell_type": "code",
   "execution_count": 57,
   "metadata": {},
   "outputs": [],
   "source": [
    "a=687 #without mask\n",
    "b=691 #with mask\n",
    "\n",
    "lista_i=list(np.random.randint(1,4868,690))\n",
    "lista_k=list(np.random.randint(1,2204,690))\n",
    "\n",
    "i=1\n",
    "k=1\n",
    "\n",
    "for d in dirs:\n",
    "    if d==dirs[0]:\n",
    "        for file in os.listdir(f\"{d}/\"):\n",
    "            if i in lista_i:\n",
    "                shutil.copyfile(d + '/' + file, dirs1[0] + '/without_mask_' + str(a) + '.jpg')\n",
    "                a+=1\n",
    "            i+=1\n",
    "    if d==dirs[1]:\n",
    "        for file in os.listdir(f\"{d}/\"):\n",
    "            if k in lista_k:\n",
    "                shutil.copyfile(d + '/' + file, dirs1[1] + '/with_mask_' + str(b) + '.jpg')\n",
    "                b+=1  \n",
    "            k+=1"
   ]
  }
 ],
 "metadata": {
  "kernelspec": {
   "display_name": "Python 3",
   "language": "python",
   "name": "python3"
  },
  "language_info": {
   "codemirror_mode": {
    "name": "ipython",
    "version": 3
   },
   "file_extension": ".py",
   "mimetype": "text/x-python",
   "name": "python",
   "nbconvert_exporter": "python",
   "pygments_lexer": "ipython3",
   "version": "3.7.6"
  }
 },
 "nbformat": 4,
 "nbformat_minor": 2
}
