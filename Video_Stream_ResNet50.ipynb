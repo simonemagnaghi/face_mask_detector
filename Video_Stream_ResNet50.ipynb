{
 "cells": [
  {
   "cell_type": "markdown",
   "metadata": {
    "colab_type": "text",
    "id": "Fz9bs6_8TRcQ"
   },
   "source": [
    "# Video Stream ResNet50\n"
   ]
  },
  {
   "cell_type": "code",
   "execution_count": 2,
   "metadata": {
    "colab": {},
    "colab_type": "code",
    "executionInfo": {
     "elapsed": 3250,
     "status": "ok",
     "timestamp": 1593442322103,
     "user": {
      "displayName": "Mattia Rigiroli",
      "photoUrl": "",
      "userId": "16974970111569695540"
     },
     "user_tz": -120
    },
    "id": "S-5fyf2GTRcR"
   },
   "outputs": [],
   "source": [
    "from tensorflow.keras.applications.mobilenet_v2 import preprocess_input\n",
    "from tensorflow.keras.preprocessing.image import img_to_array\n",
    "from tensorflow.keras.models import load_model\n",
    "from imutils.video import VideoStream\n",
    "import numpy as np\n",
    "import argparse\n",
    "import imutils\n",
    "import time\n",
    "import cv2\n",
    "import os"
   ]
  },
  {
   "cell_type": "markdown",
   "metadata": {},
   "source": [
    "## Importo il modello "
   ]
  },
  {
   "cell_type": "code",
   "execution_count": 3,
   "metadata": {
    "colab": {},
    "colab_type": "code",
    "executionInfo": {
     "elapsed": 9505,
     "status": "ok",
     "timestamp": 1593442780569,
     "user": {
      "displayName": "Mattia Rigiroli",
      "photoUrl": "",
      "userId": "16974970111569695540"
     },
     "user_tz": -120
    },
    "id": "OQGV5a59kFHQ"
   },
   "outputs": [],
   "source": [
    "model = load_model(r'C:\\Users\\matti\\OneDrive - Universita degli Studi di Milano-Bicocca\\Uni\\LM-DataScience\\1-Anno\\Data Science Lab\\Progetto_Face_Mask\\Modelli_Trained\\resnet50_model_10k')"
   ]
  },
  {
   "cell_type": "markdown",
   "metadata": {},
   "source": [
    "## Test Webcam "
   ]
  },
  {
   "cell_type": "code",
   "execution_count": 19,
   "metadata": {
    "colab": {},
    "colab_type": "code",
    "executionInfo": {
     "elapsed": 2584,
     "status": "ok",
     "timestamp": 1593442788605,
     "user": {
      "displayName": "Mattia Rigiroli",
      "photoUrl": "",
      "userId": "16974970111569695540"
     },
     "user_tz": -120
    },
    "id": "EjeICVLnTRcY"
   },
   "outputs": [],
   "source": [
    "#con src=0 si utilizza la webcam del pc\n",
    "vs = VideoStream(src=0).start()\n",
    "time.sleep(2.0)"
   ]
  },
  {
   "cell_type": "code",
   "execution_count": 20,
   "metadata": {
    "colab": {
     "base_uri": "https://localhost:8080/",
     "height": 231
    },
    "colab_type": "code",
    "executionInfo": {
     "elapsed": 2720,
     "status": "error",
     "timestamp": 1593442792535,
     "user": {
      "displayName": "Mattia Rigiroli",
      "photoUrl": "",
      "userId": "16974970111569695540"
     },
     "user_tz": -120
    },
    "id": "4Z3QR5NNlddg",
    "outputId": "505e0176-b724-4718-b2dd-04be7500cc45"
   },
   "outputs": [],
   "source": [
    "# Si fa un loop su ogni frame video fino a che non viene fermato lo streaming\n",
    "while True:\n",
    "    #Leggo il frame video\n",
    "    frame = vs.read()\n",
    "    #Formatto il frame video\n",
    "    face = cv2.cvtColor(frame, cv2.COLOR_BGR2RGB)\n",
    "    face = cv2.resize(face, (224, 224))\n",
    "    face = img_to_array(face)\n",
    "    face = preprocess_input(face)\n",
    "    face = np.expand_dims(face, axis=0)\n",
    "    \n",
    "    #Applico il modello per effettuare la previsione sul frame\n",
    "    (mask, withoutMask) = model.predict(face)[0]\n",
    "    \n",
    "    #Determino il label\n",
    "    label = \"Mask\" if mask > withoutMask else \"No Mask\"\n",
    "    \n",
    "    #Determino il colore del label\n",
    "    color = (0, 255, 0) if label == \"Mask\" else (0, 0, 255)\n",
    "    \n",
    "    #Determino il formato del testo che verrà mostrato a video\n",
    "    label = \"{}: {:.2f}%\".format(label, max(mask, withoutMask) * 100)\n",
    "    cv2.putText(frame, label, (100, 100),\n",
    "    cv2.FONT_HERSHEY_SIMPLEX, 0.65, color, 2)\n",
    "    \n",
    "    #Mostro il frame\n",
    "    cv2.imshow(\"Frame\", frame)\n",
    "    \n",
    "    key = cv2.waitKey(1) & 0xFF\n",
    "    \n",
    "    #Per stoppare lo streaming premere q\n",
    "    if key == ord(\"q\"):\n",
    "        break\n",
    "        \n",
    "cv2.destroyAllWindows()\n",
    "vs.stop()"
   ]
  },
  {
   "cell_type": "code",
   "execution_count": 17,
   "metadata": {
    "colab": {},
    "colab_type": "code",
    "id": "xCydWRrtTRck",
    "outputId": "370f7632-1818-41bd-e368-711e8353c735"
   },
   "outputs": [
    {
     "data": {
      "text/plain": [
       "0.017699046"
      ]
     },
     "execution_count": 17,
     "metadata": {},
     "output_type": "execute_result"
    }
   ],
   "source": [
    "mask"
   ]
  },
  {
   "cell_type": "code",
   "execution_count": 18,
   "metadata": {
    "colab": {},
    "colab_type": "code",
    "id": "R-HGjMOgTRcq"
   },
   "outputs": [],
   "source": [
    "vs = VideoStream(src=0).stop()"
   ]
  },
  {
   "cell_type": "code",
   "execution_count": null,
   "metadata": {
    "colab": {},
    "colab_type": "code",
    "id": "dDpp6R9FTRcv"
   },
   "outputs": [],
   "source": []
  }
 ],
 "metadata": {
  "colab": {
   "collapsed_sections": [],
   "name": "Video_Stream_ResNet50.ipynb",
   "provenance": [],
   "toc_visible": true
  },
  "kernelspec": {
   "display_name": "Python 3",
   "language": "python",
   "name": "python3"
  },
  "language_info": {
   "codemirror_mode": {
    "name": "ipython",
    "version": 3
   },
   "file_extension": ".py",
   "mimetype": "text/x-python",
   "name": "python",
   "nbconvert_exporter": "python",
   "pygments_lexer": "ipython3",
   "version": "3.7.6"
  }
 },
 "nbformat": 4,
 "nbformat_minor": 1
}
