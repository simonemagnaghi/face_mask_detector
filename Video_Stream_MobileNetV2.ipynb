{
 "cells": [
  {
   "cell_type": "markdown",
   "metadata": {},
   "source": [
    "# Video Stream MobileNetv2"
   ]
  },
  {
   "cell_type": "code",
   "execution_count": 1,
   "metadata": {
    "colab": {},
    "colab_type": "code",
    "id": "bUyiA0CuP2Pw"
   },
   "outputs": [],
   "source": [
    "from tensorflow.keras.applications.mobilenet_v2 import preprocess_input\n",
    "from tensorflow.keras.preprocessing.image import img_to_array\n",
    "from tensorflow.keras.models import load_model\n",
    "from imutils.video import VideoStream\n",
    "import numpy as np\n",
    "import argparse\n",
    "import imutils\n",
    "import time\n",
    "import cv2\n",
    "import os"
   ]
  },
  {
   "cell_type": "markdown",
   "metadata": {
    "colab_type": "text",
    "id": "6nLywQRYP2Ph"
   },
   "source": [
    "## Importo il Face Detector e il Face_Mask Detector"
   ]
  },
  {
   "cell_type": "code",
   "execution_count": 2,
   "metadata": {
    "colab": {},
    "colab_type": "code",
    "id": "LEYUY3DefDRQ"
   },
   "outputs": [],
   "source": [
    "prototxtPath = os.path.sep.join(['C:/Users/matti/OneDrive - Universita degli Studi di Milano-Bicocca/Uni/LM-DataScience/1-Anno/Data Science Lab/Progetto_Face_Mask/face-mask-detector/face_detector', \"deploy.prototxt\"])\n",
    "weightsPath = os.path.sep.join(['C:/Users/matti/OneDrive - Universita degli Studi di Milano-Bicocca/Uni/LM-DataScience/1-Anno/Data Science Lab/Progetto_Face_Mask/face-mask-detector/face_detector',\"res10_300x300_ssd_iter_140000.caffemodel\"])\n",
    "faceNet = cv2.dnn.readNet(prototxtPath, weightsPath)\n",
    "maskNet = load_model('C:/Users/matti/OneDrive - Universita degli Studi di Milano-Bicocca/Uni/LM-DataScience/1-Anno/Data Science Lab/Progetto_Face_Mask/Modelli_Trained/model_mobile_net_v2')"
   ]
  },
  {
   "cell_type": "markdown",
   "metadata": {
    "colab_type": "text",
    "id": "DM1no4osP2Pv"
   },
   "source": [
    "## Test Webcam"
   ]
  },
  {
   "cell_type": "code",
   "execution_count": 3,
   "metadata": {
    "colab": {},
    "colab_type": "code",
    "id": "aOxUFZjGklTF"
   },
   "outputs": [],
   "source": [
    "#con src=0 si utilizza la webcam del pc\n",
    "vs = VideoStream(src=0).start()\n",
    "time.sleep(2.0)"
   ]
  },
  {
   "cell_type": "markdown",
   "metadata": {},
   "source": [
    "Definisco una funzione che prende in input un frame video, il modello per identificare il volto di una persona (FaceNet) e il modello che permette di stabilire se è presente un volto con e senza maschera (MaskNet)."
   ]
  },
  {
   "cell_type": "code",
   "execution_count": 4,
   "metadata": {
    "colab": {},
    "colab_type": "code",
    "id": "PBFeRIgyP2Py"
   },
   "outputs": [],
   "source": [
    "def detect_and_predict_mask(frame, faceNet, maskNet):\n",
    "\n",
    "    #Estraggo i valori di hight e width  \n",
    "    (h, w) = frame.shape[:2]\n",
    "    #Costruisco un blob dall'immagine\n",
    "    blob = cv2.dnn.blobFromImage(frame, 1.0, (300, 300),\n",
    "        (104.0, 177.0, 123.0))\n",
    "    #Passo il blob al Face Network che mi fornisce le face detections\n",
    "    faceNet.setInput(blob)\n",
    "    detections = faceNet.forward()\n",
    "    \n",
    "    #Inizializzo una lista per le facce, le relative posizioni \n",
    "    #e le previsioni del mask detector\n",
    "    faces = []\n",
    "    locs = []\n",
    "    preds = []\n",
    "    \n",
    "    for i in range(0, detections.shape[2]):\n",
    "        #Per ciascuna detections, estraggo il valore della confidenza   \n",
    "        confidence = detections[0, 0, i, 2]\n",
    "        #Considero solo le detections che hanno una condifenza maggiore di una determinata soglia\n",
    "        if confidence > 0.5:\n",
    "            #Considero le coordinate del box in cui è presente la faccia\n",
    "            box = detections[0, 0, i, 3:7] * np.array([w, h, w, h])\n",
    "            (startX, startY, endX, endY) = box.astype(\"int\")\n",
    "            #Mi assicuro che il box in cui è presente l'immagine sta all'interno del frame\n",
    "            (startX, startY) = (max(0, startX), max(0, startY))\n",
    "            (endX, endY) = (min(w - 1, endX), min(h - 1, endY))\n",
    "            \n",
    "            #Estraggo dall'immagine la ROI\n",
    "            face = frame[startY:endY, startX:endX]\n",
    "            #Converto l'immagine da BGR a RGB\n",
    "            face = cv2.cvtColor(face, cv2.COLOR_BGR2RGB)\n",
    "            #Resize della faccia in quanto la rete MobileNet è allenata su immagini di dimensione 224x224\n",
    "            face = cv2.resize(face, (224, 224))\n",
    "            #Trasformo in array\n",
    "            face = img_to_array(face)\n",
    "            #Preprocess dell'immagine\n",
    "            face = preprocess_input(face)\n",
    "            #Aggiungo la faccia alla lista di facce\n",
    "            faces.append(face)\n",
    "            #Aggiungo la posizione della faccia alla lista delle posizioni\n",
    "            locs.append((startX, startY, endX, endY))\n",
    "    \n",
    "    #Se ho trovato almeno una faccia:\n",
    "    if len(faces) > 0:\n",
    "        #Converto la faccia in un array di numpy\n",
    "        faces = np.array(faces, dtype=\"float32\")\n",
    "        #Passo la faccia tramite la rete allenata per individuare la mascherina\n",
    "        preds = maskNet.predict(faces, batch_size=32)\n",
    "    \n",
    "    #Viene restituita una tupla contenente la posizione della faccia e\n",
    "    #le probabilità associate alle labels mask/no mask\n",
    "    return (locs, preds)"
   ]
  },
  {
   "cell_type": "code",
   "execution_count": 5,
   "metadata": {
    "colab": {
     "base_uri": "https://localhost:8080/",
     "height": 371
    },
    "colab_type": "code",
    "executionInfo": {
     "elapsed": 1163,
     "status": "error",
     "timestamp": 1593440628763,
     "user": {
      "displayName": "Simone Magnaghi",
      "photoUrl": "",
      "userId": "06617136404085829148"
     },
     "user_tz": -120
    },
    "id": "Iay6nDyWP2P4",
    "outputId": "aeb9f173-f12f-4961-cb3d-dd0ae5010a27"
   },
   "outputs": [],
   "source": [
    "while True:\n",
    "    #Continuo a cicliare sui frame video\n",
    "    frame = vs.read()\n",
    "    #Formatto il frame\n",
    "    frame = imutils.resize(frame, width=400)\n",
    "        \n",
    "    #Tramite la funzione definita sopra, determino se nel frame sono presenti\n",
    "    #delle facce e determino se indossano o meno la maschera\n",
    "    (locs, preds) = detect_and_predict_mask(frame, faceNet, maskNet)\n",
    "    \n",
    "    #Ripeto questa operazione per ogni faccia individuata:\n",
    "    for (box, pred) in zip(locs, preds):\n",
    "        \n",
    "        #Estraggo il box e le predictions\n",
    "        (startX, startY, endX, endY) = box\n",
    "        (mask, withoutMask) = pred\n",
    "        \n",
    "        #Determino se la faccia ha o meno la maschera e definisco\n",
    "        #il colore rosso per No Mask e verde per Mask. \n",
    "        label = \"Mask\" if mask > withoutMask else \"No Mask\"\n",
    "        color = (0, 255, 0) if label == \"Mask\" else (0, 0, 255)\n",
    "        \n",
    "        #Formatto la probabilità delle label\n",
    "        label = \"{}: {:.2f}%\".format(label, max(mask, withoutMask) * 100)\n",
    "       \n",
    "        #Predispongo la visualzzione del frame, della label\n",
    "        # e della probabilità prevista dal modello\n",
    "        cv2.putText(frame, label, (startX, startY - 10),\n",
    "            cv2.FONT_HERSHEY_SIMPLEX, 0.45, color, 2)\n",
    "        cv2.rectangle(frame, (startX, startY), (endX, endY), color, 2)\n",
    "        \n",
    "    #Mostro il frame con il risultato della previsione\n",
    "    cv2.imshow(\"Frame\", frame)\n",
    "    key = cv2.waitKey(1) & 0xFF\n",
    "    \n",
    "    #Lo streaming viene stoppato con q.\n",
    "    if key == ord(\"q\"):\n",
    "        break\n",
    "\n",
    "        \n",
    "cv2.destroyAllWindows()"
   ]
  },
  {
   "cell_type": "code",
   "execution_count": 6,
   "metadata": {
    "colab": {},
    "colab_type": "code",
    "id": "_nLcDpO-P2P6"
   },
   "outputs": [],
   "source": [
    "vs.stop()"
   ]
  },
  {
   "cell_type": "code",
   "execution_count": null,
   "metadata": {},
   "outputs": [],
   "source": []
  },
  {
   "cell_type": "code",
   "execution_count": null,
   "metadata": {},
   "outputs": [],
   "source": []
  }
 ],
 "metadata": {
  "accelerator": "GPU",
  "colab": {
   "collapsed_sections": [],
   "name": "Video_Stream_MobileNetV2.ipynb",
   "provenance": [],
   "toc_visible": true
  },
  "kernelspec": {
   "display_name": "Python 3",
   "language": "python",
   "name": "python3"
  },
  "language_info": {
   "codemirror_mode": {
    "name": "ipython",
    "version": 3
   },
   "file_extension": ".py",
   "mimetype": "text/x-python",
   "name": "python",
   "nbconvert_exporter": "python",
   "pygments_lexer": "ipython3",
   "version": "3.7.6"
  }
 },
 "nbformat": 4,
 "nbformat_minor": 1
}
