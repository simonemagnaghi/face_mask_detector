{
 "cells": [
  {
   "cell_type": "markdown",
   "metadata": {},
   "source": [
    "# Pre-Processing Immagini"
   ]
  },
  {
   "cell_type": "code",
   "execution_count": 1,
   "metadata": {},
   "outputs": [],
   "source": [
    "import os\n",
    "import numpy as np"
   ]
  },
  {
   "cell_type": "code",
   "execution_count": 2,
   "metadata": {},
   "outputs": [],
   "source": [
    "os.chdir(r'C:\\Users\\matti\\OneDrive - Universita degli Studi di Milano-Bicocca\\Uni\\LM-DataScience\\1-Anno\\Data Science Lab\\Progetto_Face_Mask')"
   ]
  },
  {
   "cell_type": "code",
   "execution_count": 3,
   "metadata": {},
   "outputs": [],
   "source": [
    "path='C:/Users/matti/OneDrive - Universita degli Studi di Milano-Bicocca/Uni/LM-DataScience/1-Anno/Data Science Lab/Progetto_Face_Mask'"
   ]
  },
  {
   "cell_type": "code",
   "execution_count": 4,
   "metadata": {},
   "outputs": [
    {
     "data": {
      "text/plain": [
       "['.ipynb_checkpoints',\n",
       " 'classifier-to-detector',\n",
       " 'CNN_Cheatsheet.pdf',\n",
       " 'face-mask-detector',\n",
       " 'joint_dataset.tfrecord',\n",
       " 'LeNet_1',\n",
       " 'PreProcessing_Image.ipynb',\n",
       " 'PreProcessing_Image_Busto.ipynb',\n",
       " 'README.txt',\n",
       " 'ReadMe_Modelli_Trained.txt',\n",
       " 'resnet50_model1',\n",
       " 'resnet50_model_busto',\n",
       " 'RMFD.zip',\n",
       " 'script_ds_lab.ipynb',\n",
       " 'self-built-masked-face-recognition-dataset',\n",
       " 'tesseract-ocr-w64-setup-v5.0.0-alpha.20200328.exe',\n",
       " 'Tesseract.ipynb',\n",
       " 'Vari_Dataset',\n",
       " 'Video_Stream_LeNet.ipynb',\n",
       " 'Video_Stream_MobileNetV2.ipynb',\n",
       " 'Video_Stream_ResNet50.ipynb']"
      ]
     },
     "execution_count": 4,
     "metadata": {},
     "output_type": "execute_result"
    }
   ],
   "source": [
    "os.listdir()"
   ]
  },
  {
   "cell_type": "code",
   "execution_count": 5,
   "metadata": {},
   "outputs": [],
   "source": [
    "dirs=[str(path) + '/self-built-masked-face-recognition-dataset']"
   ]
  },
  {
   "cell_type": "code",
   "execution_count": 6,
   "metadata": {},
   "outputs": [
    {
     "data": {
      "text/plain": [
       "'C:/Users/matti/OneDrive - Universita degli Studi di Milano-Bicocca/Uni/LM-DataScience/1-Anno/Data Science Lab/Progetto_Face_Mask/self-built-masked-face-recognition-dataset'"
      ]
     },
     "execution_count": 6,
     "metadata": {},
     "output_type": "execute_result"
    }
   ],
   "source": [
    "dirs[0]"
   ]
  },
  {
   "cell_type": "code",
   "execution_count": 7,
   "metadata": {},
   "outputs": [
    {
     "name": "stdout",
     "output_type": "stream",
     "text": [
      "AFDB_face_dataset\n",
      "AFDB_masked_face_dataset\n",
      "dataset\n",
      "dataset.zip\n",
      "dataset_2\n",
      "dataset_2.zip\n",
      "dataset_comp\n",
      "Readme.docx\n"
     ]
    }
   ],
   "source": [
    "for d in dirs:\n",
    "    for file in os.listdir(f\"{d}/\"):\n",
    "        print(file)"
   ]
  },
  {
   "cell_type": "markdown",
   "metadata": {},
   "source": [
    "## Spostamento immagini"
   ]
  },
  {
   "cell_type": "code",
   "execution_count": 8,
   "metadata": {},
   "outputs": [],
   "source": [
    "a=dirs[0]+'/dataset_comp/face_without_mask'\n",
    "b=dirs[0]+'/dataset_comp/face_with_mask'\n",
    "for d in dirs:\n",
    "    for file in os.listdir(f\"{d}/\"):\n",
    "        if file=='AFDB_face_dataset':\n",
    "            i=1\n",
    "            for cartella in os.listdir(f\"{d}/{file}/\"):\n",
    "                for immagine in os.listdir(f\"{d}/{file}/{cartella}/\"):\n",
    "                    #print(immagine)\n",
    "                    os.rename(f\"{d}/{file}/{cartella}/{immagine}\", a + '/not_mask_' + str(i) + '.jpg')\n",
    "                    i+=1\n",
    "        elif file=='AFDB_masked_face_dataset':\n",
    "            k=1\n",
    "            for cartella in os.listdir(f\"{d}/{file}/\"):\n",
    "                for immagine in os.listdir(f\"{d}/{file}/{cartella}/\"):\n",
    "                    #print(immagine)\n",
    "                    os.rename(f\"{d}/{file}/{cartella}/{immagine}\", b + '/with_mask_' + str(k) + '.jpg')\n",
    "                    k+=1\n",
    "                    "
   ]
  },
  {
   "cell_type": "markdown",
   "metadata": {},
   "source": [
    "Seleziono 10.000 immagini delle 90.000 disponibili senza maschera"
   ]
  },
  {
   "cell_type": "code",
   "execution_count": 12,
   "metadata": {},
   "outputs": [
    {
     "data": {
      "text/plain": [
       "[65245, 85540, 16376, 9049, 48544, 33692, 40794, 50193, 39014, 59544]"
      ]
     },
     "execution_count": 12,
     "metadata": {},
     "output_type": "execute_result"
    }
   ],
   "source": [
    "lista_sample=list(np.random.randint(1,90468,10000))\n",
    "lista_sample[0:10]"
   ]
  },
  {
   "cell_type": "code",
   "execution_count": 13,
   "metadata": {},
   "outputs": [],
   "source": [
    "i=1\n",
    "a=dirs[0]+'/dataset_comp/face_without_mask/'\n",
    "for immagine in os.listdir(a):\n",
    "    if i not in lista_sample: \n",
    "        os.remove(a+immagine)\n",
    "    i+=1"
   ]
  }
 ],
 "metadata": {
  "kernelspec": {
   "display_name": "Python 3",
   "language": "python",
   "name": "python3"
  },
  "language_info": {
   "codemirror_mode": {
    "name": "ipython",
    "version": 3
   },
   "file_extension": ".py",
   "mimetype": "text/x-python",
   "name": "python",
   "nbconvert_exporter": "python",
   "pygments_lexer": "ipython3",
   "version": "3.7.6"
  }
 },
 "nbformat": 4,
 "nbformat_minor": 2
}
